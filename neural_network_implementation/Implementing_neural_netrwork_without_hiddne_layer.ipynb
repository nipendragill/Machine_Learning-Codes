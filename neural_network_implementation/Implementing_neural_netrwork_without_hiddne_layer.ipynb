{
 "cells": [
  {
   "cell_type": "code",
   "execution_count": 13,
   "metadata": {
    "collapsed": true
   },
   "outputs": [],
   "source": [
    "import numpy as np"
   ]
  },
  {
   "cell_type": "code",
   "execution_count": 14,
   "metadata": {},
   "outputs": [
    {
     "data": {
      "text/plain": [
       "((4, 2), (4, 1))"
      ]
     },
     "execution_count": 14,
     "metadata": {},
     "output_type": "execute_result"
    }
   ],
   "source": [
    "X= np.array([[0,0],[0,1],[1,0],[1,1]])\n",
    "Y= np.array([[0,0,0,1]]).T\n",
    "X.shape, Y.shape"
   ]
  },
  {
   "cell_type": "code",
   "execution_count": 15,
   "metadata": {
    "collapsed": true
   },
   "outputs": [],
   "source": [
    "def sig(z):\n",
    "    return 1/(1+np.exp(-z))"
   ]
  },
  {
   "cell_type": "code",
   "execution_count": 16,
   "metadata": {
    "collapsed": true
   },
   "outputs": [],
   "source": [
    "def derivativeSig(z):\n",
    "    return sig(z)*(1-sig(z))"
   ]
  },
  {
   "cell_type": "code",
   "execution_count": 19,
   "metadata": {},
   "outputs": [
    {
     "data": {
      "text/plain": [
       "(array([[-0.77340297],\n",
       "        [-0.54826596]]), array([ 0.89327454]))"
      ]
     },
     "execution_count": 19,
     "metadata": {},
     "output_type": "execute_result"
    }
   ],
   "source": [
    "#no hidden layer weights\n",
    "weights = 2*np.random.random((2,1))-1\n",
    "bias = 2* np.random.random(1)-1\n",
    "\n",
    "lr=0.1\n",
    "weights, bias"
   ]
  },
  {
   "cell_type": "code",
   "execution_count": 20,
   "metadata": {},
   "outputs": [
    {
     "data": {
      "text/plain": [
       "(array([[ 5.46607264],\n",
       "        [ 5.46607264]]), array([-8.29186061]), array([[  2.50485099e-04],\n",
       "        [  5.59464466e-02],\n",
       "        [  5.59464465e-02],\n",
       "        [  9.33409660e-01]]))"
      ]
     },
     "execution_count": 20,
     "metadata": {},
     "output_type": "execute_result"
    }
   ],
   "source": [
    " for iter in range(10000):   \n",
    "    output0= X\n",
    "    output = sig(np.dot(output0, weights)+bias)\n",
    "\n",
    "    first_term = output -Y\n",
    "    input_for_last_layer = np.dot(output0, weights) + bias\n",
    "    second_term = derivativeSig(input_for_last_layer)\n",
    "    first_two = first_term*second_term\n",
    "    first_two.shape\n",
    "\n",
    "    changes = np.array([[0.0],[0.0]])\n",
    "    for i in range(2):\n",
    "        for j in range(4):\n",
    "            changes[i][0]+= first_two[j][0]* output0[j][i]\n",
    "    weights = weights - lr*changes\n",
    "    bias_change=0.0\n",
    "    for j in range(4):\n",
    "        bias_change+= first_two[j][0]*1\n",
    "    bias= bias -lr* bias_change\n",
    "output= sig(np.dot(X, weights) + bias)\n",
    "weights ,bias, output\n",
    "    \n",
    "    \n",
    "        "
   ]
  },
  {
   "cell_type": "code",
   "execution_count": null,
   "metadata": {
    "collapsed": true
   },
   "outputs": [],
   "source": []
  }
 ],
 "metadata": {
  "kernelspec": {
   "display_name": "Python 3",
   "language": "python",
   "name": "python3"
  },
  "language_info": {
   "codemirror_mode": {
    "name": "ipython",
    "version": 3
   },
   "file_extension": ".py",
   "mimetype": "text/x-python",
   "name": "python",
   "nbconvert_exporter": "python",
   "pygments_lexer": "ipython3",
   "version": "3.6.3"
  }
 },
 "nbformat": 4,
 "nbformat_minor": 2
}
