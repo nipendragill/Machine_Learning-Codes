{
 "cells": [
  {
   "cell_type": "code",
   "execution_count": 1,
   "metadata": {
    "collapsed": true
   },
   "outputs": [],
   "source": [
    "import os\n",
    "os.environ['KERAS_BACKEND'] = 'tensorflow'\n"
   ]
  },
  {
   "cell_type": "code",
   "execution_count": 2,
   "metadata": {},
   "outputs": [
    {
     "name": "stderr",
     "output_type": "stream",
     "text": [
      "Using TensorFlow backend.\n"
     ]
    }
   ],
   "source": [
    "import keras as ks"
   ]
  },
  {
   "cell_type": "code",
   "execution_count": 3,
   "metadata": {},
   "outputs": [],
   "source": [
    "from keras.models import Sequential\n",
    "from keras.layers import Dense"
   ]
  },
  {
   "cell_type": "code",
   "execution_count": 4,
   "metadata": {
    "collapsed": true
   },
   "outputs": [],
   "source": [
    "model = Sequential()"
   ]
  },
  {
   "cell_type": "code",
   "execution_count": 5,
   "metadata": {},
   "outputs": [],
   "source": [
    "layer1 = Dense(units=32, activation ='relu', input_dim=30)\n",
    "model.add(layer1)\n",
    "model.add(Dense(units=16, activation='relu'))\n",
    "model.add(Dense(units=1,  activation= 'sigmoid'))"
   ]
  },
  {
   "cell_type": "code",
   "execution_count": 6,
   "metadata": {
    "collapsed": true
   },
   "outputs": [],
   "source": [
    "model.compile(optimizer='adam', loss='binary_crossentropy', metrics=['accuracy'])"
   ]
  },
  {
   "cell_type": "code",
   "execution_count": 7,
   "metadata": {
    "collapsed": true
   },
   "outputs": [],
   "source": [
    "from sklearn import datasets\n",
    "cancer = datasets.load_breast_cancer()\n",
    "from sklearn.model_selection import train_test_split\n",
    "\n",
    "x_train, x_test, y_train, y_test = train_test_split(cancer.data, cancer.target, test_size=0.2,random_state=0)\n",
    "\n",
    "\n",
    "from sklearn.preprocessing import StandardScaler\n",
    "\n",
    "sc = StandardScaler()\n",
    "x_train = sc.fit_transform(x_train)\n",
    "x_test = sc.transform(x_test)"
   ]
  },
  {
   "cell_type": "code",
   "execution_count": 9,
   "metadata": {},
   "outputs": [
    {
     "name": "stdout",
     "output_type": "stream",
     "text": [
      "Train on 455 samples, validate on 114 samples\n",
      "Epoch 1/20\n",
      "455/455 [==============================] - 1s 1ms/step - loss: 0.6996 - acc: 0.5648 - val_loss: 0.5709 - val_acc: 0.7105\n",
      "Epoch 2/20\n",
      "455/455 [==============================] - 0s 51us/step - loss: 0.5126 - acc: 0.7824 - val_loss: 0.4025 - val_acc: 0.8947\n",
      "Epoch 3/20\n",
      "455/455 [==============================] - 0s 56us/step - loss: 0.3688 - acc: 0.9165 - val_loss: 0.2880 - val_acc: 0.9474\n",
      "Epoch 4/20\n",
      "455/455 [==============================] - 0s 45us/step - loss: 0.2777 - acc: 0.9451 - val_loss: 0.2191 - val_acc: 0.9561\n",
      "Epoch 5/20\n",
      "455/455 [==============================] - 0s 58us/step - loss: 0.2198 - acc: 0.9538 - val_loss: 0.1764 - val_acc: 0.9561\n",
      "Epoch 6/20\n",
      "455/455 [==============================] - 0s 51us/step - loss: 0.1819 - acc: 0.9582 - val_loss: 0.1473 - val_acc: 0.9561\n",
      "Epoch 7/20\n",
      "455/455 [==============================] - 0s 54us/step - loss: 0.1546 - acc: 0.9670 - val_loss: 0.1264 - val_acc: 0.9649\n",
      "Epoch 8/20\n",
      "455/455 [==============================] - 0s 53us/step - loss: 0.1367 - acc: 0.9714 - val_loss: 0.1112 - val_acc: 0.9649\n",
      "Epoch 9/20\n",
      "455/455 [==============================] - 0s 57us/step - loss: 0.1229 - acc: 0.9692 - val_loss: 0.0999 - val_acc: 0.9737\n",
      "Epoch 10/20\n",
      "455/455 [==============================] - 0s 52us/step - loss: 0.1127 - acc: 0.9736 - val_loss: 0.0901 - val_acc: 0.9825\n",
      "Epoch 11/20\n",
      "455/455 [==============================] - 0s 43us/step - loss: 0.1044 - acc: 0.9758 - val_loss: 0.0819 - val_acc: 0.9912\n",
      "Epoch 12/20\n",
      "455/455 [==============================] - 0s 57us/step - loss: 0.0976 - acc: 0.9802 - val_loss: 0.0762 - val_acc: 0.9912\n",
      "Epoch 13/20\n",
      "455/455 [==============================] - 0s 56us/step - loss: 0.0928 - acc: 0.9802 - val_loss: 0.0716 - val_acc: 0.9912\n",
      "Epoch 14/20\n",
      "455/455 [==============================] - 0s 46us/step - loss: 0.0880 - acc: 0.9824 - val_loss: 0.0674 - val_acc: 0.9912\n",
      "Epoch 15/20\n",
      "455/455 [==============================] - 0s 50us/step - loss: 0.0842 - acc: 0.9824 - val_loss: 0.0641 - val_acc: 0.9825\n",
      "Epoch 16/20\n",
      "455/455 [==============================] - 0s 55us/step - loss: 0.0807 - acc: 0.9824 - val_loss: 0.0622 - val_acc: 0.9825\n",
      "Epoch 17/20\n",
      "455/455 [==============================] - 0s 61us/step - loss: 0.0780 - acc: 0.9824 - val_loss: 0.0610 - val_acc: 0.9825\n",
      "Epoch 18/20\n",
      "455/455 [==============================] - 0s 58us/step - loss: 0.0755 - acc: 0.9846 - val_loss: 0.0592 - val_acc: 0.9825\n",
      "Epoch 19/20\n",
      "455/455 [==============================] - 0s 59us/step - loss: 0.0729 - acc: 0.9846 - val_loss: 0.0562 - val_acc: 0.9825\n",
      "Epoch 20/20\n",
      "455/455 [==============================] - 0s 50us/step - loss: 0.0710 - acc: 0.9846 - val_loss: 0.0543 - val_acc: 0.9825\n"
     ]
    },
    {
     "data": {
      "text/plain": [
       "<keras.callbacks.History at 0x191f6ba4f28>"
      ]
     },
     "execution_count": 9,
     "metadata": {},
     "output_type": "execute_result"
    }
   ],
   "source": [
    "model.fit(x_train, y_train, epochs =20, batch_size=50, validation_data=(x_test,y_test))"
   ]
  },
  {
   "cell_type": "code",
   "execution_count": 10,
   "metadata": {},
   "outputs": [
    {
     "name": "stdout",
     "output_type": "stream",
     "text": [
      "114/114 [==============================] - 0s 70us/step\n"
     ]
    },
    {
     "data": {
      "text/plain": [
       "[0.054283997207357174, 0.98245613616809513]"
      ]
     },
     "execution_count": 10,
     "metadata": {},
     "output_type": "execute_result"
    }
   ],
   "source": [
    "predictions = model.predict(x_test)\n",
    "score = model.evaluate(x_test,y_test)\n",
    "score"
   ]
  }
 ],
 "metadata": {
  "kernelspec": {
   "display_name": "Python 3",
   "language": "python",
   "name": "python3"
  },
  "language_info": {
   "codemirror_mode": {
    "name": "ipython",
    "version": 3
   },
   "file_extension": ".py",
   "mimetype": "text/x-python",
   "name": "python",
   "nbconvert_exporter": "python",
   "pygments_lexer": "ipython3",
   "version": "3.6.3"
  }
 },
 "nbformat": 4,
 "nbformat_minor": 2
}
